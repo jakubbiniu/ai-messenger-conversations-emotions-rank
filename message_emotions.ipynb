{
 "cells": [
  {
   "cell_type": "code",
   "execution_count": 59,
   "metadata": {},
   "outputs": [],
   "source": [
    "#pewnie nieoptymalnie ale działa XD\n",
    "input_file_path = 'matikarlowski.json'  # Podmień nazwę pliku wejściowego\n",
    "\n",
    "def fix_polish_characters(input_file, output_file):\n",
    "    with open(input_file, 'rb') as file:\n",
    "        json_data = file.read().decode('utf-8')\n",
    "        decoded_json = json_data.replace(r'\\u00c4\\u0099', 'ę').replace(r'\\u00c5\\u009b','ś').replace(r'\\u00c5\\u0082','ł')\\\n",
    "            .replace(r'\\u00c4\\u0087','ć').replace(r'\\u00c5\\u00bc','ż').replace(r'\\u00c4\\u0085','ą').replace(r'\\u00c3\\u00b3','ó')\\\n",
    "            .replace(r'\\u00c5\\u0084','ń')\n",
    "        \n",
    "        with open(output_file, 'w', encoding='utf-8') as output_file:\n",
    "            output_file.write(decoded_json)\n",
    "\n",
    "# Przykład użycia\n",
    "output_file_path = \"fixed_\"+input_file_path  # Podmień nazwę pliku wyjściowego\n",
    "\n",
    "fix_polish_characters(input_file_path, output_file_path)\n"
   ]
  },
  {
   "cell_type": "code",
   "execution_count": 60,
   "metadata": {},
   "outputs": [],
   "source": [
    "import json\n",
    "\n",
    "# Wczytaj plik JSON\n",
    "with open(output_file_path, 'r', encoding='utf-8') as file:\n",
    "    data = json.load(file)\n",
    "\n",
    "    \n",
    "new_file_name = \"data_\" + output_file_path.replace(\".json\", \".txt\")\n",
    "\n",
    "# Otwórz nowy plik tekstowy do zapisu\n",
    "with open(new_file_name, 'w', encoding='utf-8') as output_file:\n",
    "    # Iteruj przez wiadomości i zapisuj zawartość do pliku\n",
    "    for message in data['messages']:\n",
    "        if 'content' in message:\n",
    "            output_file.write(message['content'] + '. ')\n"
   ]
  },
  {
   "cell_type": "code",
   "execution_count": 61,
   "metadata": {},
   "outputs": [
    {
     "name": "stdout",
     "output_type": "stream",
     "text": [
      "Tekst po angielsku: Thanks a lot. Thanks a lot. I have the same. In your spare time you can confirm. Because I 6 and 2280. And how much did you get?. Thanks. Oh, it's cool. As something I sent her yesterday I sent her an assignment with a regression to an e-mail and wrote from about. Maybe the other things she wants by e-mail. but I don't know. I just thought she wanted an e-mail like she said someone wouldn't happen. She probably wants everything so far by XD e-mail. ok. Because I have so much that I don't need to send anything. It's just for e-mail these tasks that you didn't get on the labs. And I thought she wanted to get to you XD. In Mom's e-mail. Yeah.\n"
     ]
    }
   ],
   "source": [
    "from transformers import MarianMTModel, MarianTokenizer\n",
    "\n",
    "def translate_polish_to_english(text):\n",
    "    # Ładowanie modelu i tokenizera dla tłumaczenia z polskiego na angielski\n",
    "    model_name = \"Helsinki-NLP/opus-mt-pl-en\"\n",
    "    model = MarianMTModel.from_pretrained(model_name)\n",
    "    tokenizer = MarianTokenizer.from_pretrained(model_name)\n",
    "\n",
    "    # Tokenizacja tekstu\n",
    "    inputs = tokenizer(text, return_tensors=\"pt\", max_length=512, truncation=True)\n",
    "\n",
    "    # Tłumaczenie\n",
    "    translation = model.generate(**inputs)\n",
    "    translated_text = tokenizer.decode(translation[0], skip_special_tokens=True)\n",
    "\n",
    "    return translated_text\n",
    "\n",
    "\n",
    "with open(new_file_name, 'r',encoding='utf-8') as file:\n",
    "    file_content = file.read()\n",
    "\n",
    "# Przykład użycia\n",
    "# polish_text = \"Przykładowy tekst do przetłumaczenia.\"\n",
    "english_translation = translate_polish_to_english(file_content)\n",
    "print(\"Tekst po angielsku:\", english_translation)\n"
   ]
  },
  {
   "cell_type": "code",
   "execution_count": 62,
   "metadata": {},
   "outputs": [
    {
     "name": "stdout",
     "output_type": "stream",
     "text": [
      "[{'label': 'gratitude', 'score': 0.9415872097015381}, {'label': 'curiosity', 'score': 0.10657551139593124}, {'label': 'confusion', 'score': 0.09995421767234802}, {'label': 'neutral', 'score': 0.03301151096820831}, {'label': 'approval', 'score': 0.02062782272696495}, {'label': 'admiration', 'score': 0.014812486246228218}, {'label': 'realization', 'score': 0.011034006252884865}, {'label': 'surprise', 'score': 0.006652976386249065}, {'label': 'annoyance', 'score': 0.006559126544743776}, {'label': 'optimism', 'score': 0.005872928071767092}, {'label': 'excitement', 'score': 0.004444403108209372}, {'label': 'disapproval', 'score': 0.004388326313346624}, {'label': 'joy', 'score': 0.0032444826792925596}, {'label': 'disappointment', 'score': 0.0021386253647506237}, {'label': 'relief', 'score': 0.0020251059904694557}, {'label': 'amusement', 'score': 0.0018855336820706725}, {'label': 'caring', 'score': 0.0018420701380819082}, {'label': 'love', 'score': 0.0013930543791502714}, {'label': 'anger', 'score': 0.0013014079304412007}, {'label': 'desire', 'score': 0.0012284653494134545}, {'label': 'remorse', 'score': 0.0011998616391792893}, {'label': 'sadness', 'score': 0.0011468573939055204}, {'label': 'disgust', 'score': 0.0008981169085018337}, {'label': 'embarrassment', 'score': 0.0007385667995549738}, {'label': 'grief', 'score': 0.0005503476713784039}, {'label': 'nervousness', 'score': 0.00047786341747269034}, {'label': 'fear', 'score': 0.00046266926801763475}, {'label': 'pride', 'score': 0.0003907068748958409}]\n"
     ]
    }
   ],
   "source": [
    "from transformers import pipeline\n",
    "\n",
    "classifier = pipeline(task=\"text-classification\", model=\"SamLowe/roberta-base-go_emotions\", top_k=None)\n",
    "    \n",
    "sentences = [english_translation]\n",
    "\n",
    "model_outputs = classifier(sentences)\n",
    "print(model_outputs[0])\n",
    "# produces a list of dicts for each of the labels\n"
   ]
  }
 ],
 "metadata": {
  "kernelspec": {
   "display_name": "Python 3",
   "language": "python",
   "name": "python3"
  },
  "language_info": {
   "codemirror_mode": {
    "name": "ipython",
    "version": 3
   },
   "file_extension": ".py",
   "mimetype": "text/x-python",
   "name": "python",
   "nbconvert_exporter": "python",
   "pygments_lexer": "ipython3",
   "version": "3.11.6"
  }
 },
 "nbformat": 4,
 "nbformat_minor": 2
}
